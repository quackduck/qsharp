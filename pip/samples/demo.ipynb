{
 "cells": [
  {
   "cell_type": "markdown",
   "metadata": {},
   "source": [
    "Import the Q# module.\n",
    "\n",
    "This enables the %%qsharp magic and initializes a Q# interpreter singleton."
   ]
  },
  {
   "cell_type": "code",
   "execution_count": null,
   "metadata": {},
   "outputs": [],
   "source": [
    "import qsharp"
   ]
  },
  {
   "cell_type": "code",
   "execution_count": null,
   "metadata": {
    "vscode": {
     "languageId": "qsharp"
    }
   },
   "outputs": [],
   "source": [
    "%%qsharp\n",
    "\n",
    "// # Sample\n",
    "// Quantum Random Number Generator\n",
    "//\n",
    "// # Description\n",
    "// This program implements a quantum ranndom number generator by setting qubits\n",
    "// in superposition and then using the measurement results as random bits.\n",
    "\n",
    "open Microsoft.Quantum.Convert;\n",
    "open Microsoft.Quantum.Intrinsic;\n",
    "open Microsoft.Quantum.Math;\n",
    "\n",
    "// # Summary\n",
    "// Generates a random bit.\n",
    "operation GenerateRandomBit() : Result {\n",
    "    // Allocate a qubit.\n",
    "    use q = Qubit();\n",
    "\n",
    "    // Set the qubit into superposition of 0 and 1 using the Hadamard \n",
    "    // operation `H`.\n",
    "    H(q);\n",
    "\n",
    "    // At this point the qubit `q` has 50% chance of being measured in the\n",
    "    // |0〉 state and 50% chance of being measured in the |1〉 state.\n",
    "    // Measure the qubit value using the `M` operation, and store the\n",
    "    // measurement value in the `result` variable.\n",
    "    let result = M(q);\n",
    "\n",
    "    // Reset qubit to the |0〉 state.\n",
    "    // Qubits must be in the |0〉 state by the time they are released.\n",
    "    Reset(q);\n",
    "\n",
    "    // Return the result of the measurement.\n",
    "    return result;\n",
    "\n",
    "    // Note that Qubit `q` is automatically released at the end of the block.\n",
    "}\n",
    "\n",
    "// # Summary\n",
    "// Generates a random number between 0 and `max`.\n",
    "operation GenerateRandomNumber(max : Int) : Int {\n",
    "    // Determine the number of bits needed to represent `max` and store it\n",
    "    // in the `nBits` variable. Then generate `nBits` random bits which will\n",
    "    // represent the generated random number.\n",
    "    mutable bits = [];\n",
    "    let nBits = BitSizeI(max);\n",
    "    for idxBit in 1..nBits {\n",
    "        set bits += [GenerateRandomBit()];\n",
    "    }\n",
    "    let sample = ResultArrayAsInt(bits);\n",
    "\n",
    "    // Return random number if it is within the requested range.\n",
    "    // Generate it again if it is outside the range.\n",
    "    return sample > max ? GenerateRandomNumber(max) | sample;\n",
    "}"
   ]
  },
  {
   "cell_type": "code",
   "execution_count": null,
   "metadata": {
    "vscode": {
     "languageId": "qsharp"
    }
   },
   "outputs": [],
   "source": [
    "qsharp.run(\"GenerateRandomNumber(100)\", shots=10)"
   ]
  },
  {
   "cell_type": "code",
   "execution_count": null,
   "metadata": {},
   "outputs": [],
   "source": [
    "import matplotlib.pyplot as plt\n",
    "import numpy as np\n",
    "from collections import Counter\n",
    "\n",
    "results = qsharp.run(\"GenerateRandomNumber(100)\", shots=1000)\n",
    "\n",
    "# Sort the results so that the histogram labels appear in the correct order\n",
    "results.sort()\n",
    "# Count the number of times each result appears\n",
    "counts = Counter(results)\n",
    "\n",
    "(values, counts) = counts.keys(), counts.values()\n",
    "xlabels = np.arange(len(counts))\n",
    "plt.bar(xlabels, counts)\n",
    "plt.xticks(xlabels, values)\n",
    "plt.show()"
   ]
  }
 ],
 "metadata": {
  "kernelspec": {
   "display_name": "qsharp",
   "language": "python",
   "name": "python3"
  },
  "language_info": {
   "codemirror_mode": {
    "name": "ipython",
    "version": 3
   },
   "file_extension": ".py",
   "mimetype": "text/x-python",
   "name": "python",
   "nbconvert_exporter": "python",
   "pygments_lexer": "ipython3",
   "version": "3.11.4"
  },
  "orig_nbformat": 4
 },
 "nbformat": 4,
 "nbformat_minor": 2
}
