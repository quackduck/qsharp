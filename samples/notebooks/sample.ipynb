{
  "cells": [
    {
      "cell_type": "markdown",
      "id": "a2f48f2b",
      "metadata": {},
      "source": [
        "Import the Q# module.\n",
        "\n",
        "This enables the `%%qsharp` magic and initializes a Q# interpreter singleton."
      ]
    },
    {
      "cell_type": "code",
      "execution_count": 1,
      "id": "1e8e4faa",
      "metadata": {},
      "outputs": [
        {
          "data": {
            "application/javascript": "// Copyright (c) Microsoft Corporation.\n// Licensed under the MIT License.\n\n// This file provides CodeMirror syntax highlighting for Q# magic cells\n// in classic Jupyter Notebooks. It does nothing in other (Jupyter Notebook 7,\n// VS Code, Azure Notebooks, etc.) environments.\n\n// Detect the prerequisites and do nothing if they don't exist.\nif (window.require && window.CodeMirror && window.Jupyter) {\n  // The simple mode plugin for CodeMirror is not loaded by default, so require it.\n  window.require([\"codemirror/addon/mode/simple\"], function defineMode() {\n    let rules = [\n      {\n        token: \"comment\",\n        regex: /(\\/\\/).*/,\n        beginWord: false,\n      },\n      {\n        token: \"string\",\n        regex: String.raw`^\\\"(?:[^\\\"\\\\]|\\\\[\\s\\S])*(?:\\\"|$)`,\n        beginWord: false,\n      },\n      {\n        token: \"keyword\",\n        regex: String.raw`(namespace|open|as|operation|function|body|adjoint|newtype|controlled|internal)\\b`,\n        beginWord: true,\n      },\n      {\n        token: \"keyword\",\n        regex: String.raw`(if|elif|else|repeat|until|fixup|for|in|return|fail|within|apply)\\b`,\n        beginWord: true,\n      },\n      {\n        token: \"keyword\",\n        regex: String.raw`(Adjoint|Controlled|Adj|Ctl|is|self|auto|distribute|invert|intrinsic)\\b`,\n        beginWord: true,\n      },\n      {\n        token: \"keyword\",\n        regex: String.raw`(let|set|w\\/|new|not|and|or|use|borrow|using|borrowing|newtype|mutable)\\b`,\n        beginWord: true,\n      },\n      {\n        token: \"meta\",\n        regex: String.raw`(Int|BigInt|Double|Bool|Qubit|Pauli|Result|Range|String|Unit)\\b`,\n        beginWord: true,\n      },\n      {\n        token: \"atom\",\n        regex: String.raw`(true|false|Pauli(I|X|Y|Z)|One|Zero)\\b`,\n        beginWord: true,\n      },\n      {\n        token: \"builtin\",\n        regex: String.raw`(X|Y|Z|H|HY|S|T|SWAP|CNOT|CCNOT|MultiX|R|RFrac|Rx|Ry|Rz|R1|R1Frac|Exp|ExpFrac|Measure|M|MultiM)\\b`,\n        beginWord: true,\n      },\n      {\n        token: \"builtin\",\n        regex: String.raw`(Message|Length|Assert|AssertProb|AssertEqual)\\b`,\n        beginWord: true,\n      },\n    ];\n    let simpleRules = [];\n    for (let rule of rules) {\n      simpleRules.push({\n        token: rule.token,\n        regex: new RegExp(rule.regex, \"g\"),\n        sol: rule.beginWord,\n      });\n      if (rule.beginWord) {\n        // Need an additional rule due to the fact that CodeMirror simple mode doesn't work with ^ token\n        simpleRules.push({\n          token: rule.token,\n          regex: new RegExp(String.raw`\\W` + rule.regex, \"g\"),\n          sol: false,\n        });\n      }\n    }\n\n    // Register the mode defined above with CodeMirror\n    window.CodeMirror.defineSimpleMode(\"qsharp\", { start: simpleRules });\n    window.CodeMirror.defineMIME(\"text/x-qsharp\", \"qsharp\");\n\n    // Tell Jupyter to associate %%qsharp magic cells with the qsharp mode\n    window.Jupyter.CodeCell.options_default.highlight_modes[\"qsharp\"] = {\n      reg: [/^%%qsharp/],\n    };\n\n    // Force re-highlighting of all cells the first time this code runs\n    for (const cell of window.Jupyter.notebook.get_cells()) {\n      cell.auto_highlight();\n    }\n  });\n}\n",
            "text/plain": []
          },
          "metadata": {},
          "output_type": "display_data"
        }
      ],
      "source": [
        "import qsharp"
      ]
    },
    {
      "cell_type": "markdown",
      "id": "3a536d53",
      "metadata": {},
      "source": [
        "Run Q# using the `%%qsharp` magic.\n",
        "\n",
        "`DumpMachine()` and `Message()` output get formatted as HTML. Return value is shown as cell output."
      ]
    },
    {
      "cell_type": "code",
      "execution_count": 2,
      "id": "9df62352",
      "metadata": {
        "vscode": {
          "languageId": "qsharp"
        }
      },
      "outputs": [
        {
          "data": {
            "text/html": [
              "<table>\n",
              "  <thead>\n",
              "    <tr>\n",
              "      <th style=\"text-align: left\">Basis State<br />(|𝜓ₙ…𝜓₁⟩)</th>\n",
              "      <th style=\"text-align: left\">Amplitude</th>\n",
              "      <th style=\"text-align: left\">Measurement Probability</th>\n",
              "      <th style=\"text-align: left\" colspan=\"2\">Phase</th>\n",
              "    </tr>\n",
              "  </thead>\n",
              "  <tbody>\n",
              "    <tr>\n",
              "  <td style=\"text-align: left\">\n",
              "    <span style=\"display: inline-block\">|1⟩</span>\n",
              "  </td>\n",
              "  <td style=\"text-align: left\">\n",
              "    <span style=\"display: inline-block\">1.0000+0.0000𝑖</span>\n",
              "  </td>\n",
              "  <td style=\"text-align: left\">\n",
              "    <progress max=\"100\" value=\"100\"></progress>\n",
              "    <span style=\"display: inline-block\">100.0000%</span>\n",
              "  </td>\n",
              "  <td style=\"text-align: left; transform: rotate(0.0000rad)\">↑</td>\n",
              "  <td style=\"text-align: left\">\n",
              "    <span style=\"display: inline-block\">0.0000</span>\n",
              "  </td>\n",
              "</tr>\n",
              "\n",
              "  </tbody>\n",
              "</table>\n"
            ],
            "text/plain": [
              "STATE:\n",
              "|1⟩: 1.0000+0.0000𝑖"
            ]
          },
          "metadata": {},
          "output_type": "display_data"
        },
        {
          "data": {
            "text/html": [
              "<p>The result of the measurement is One</p>"
            ],
            "text/plain": [
              "The result of the measurement is One"
            ]
          },
          "metadata": {},
          "output_type": "display_data"
        },
        {
          "data": {
            "text/plain": [
              "One"
            ]
          },
          "execution_count": 2,
          "metadata": {},
          "output_type": "execute_result"
        }
      ],
      "source": [
        "%%qsharp\n",
        "\n",
        "operation Main() : Result {\n",
        "    use q = Qubit();\n",
        "    X(q);\n",
        "    Microsoft.Quantum.Diagnostics.DumpMachine();\n",
        "    let r = M(q);\n",
        "    Message($\"The result of the measurement is {r}\");\n",
        "    Reset(q);\n",
        "    r\n",
        "}\n",
        "\n",
        "Main()"
      ]
    },
    {
      "cell_type": "markdown",
      "id": "4584c494",
      "metadata": {},
      "source": [
        "`qsharp.eval()` does the same thing as the `%%qsharp` magic.\n",
        "\n",
        "`DumpMachine()` and `Message()` print to stdout and get displayed in the notebook as plain text"
      ]
    },
    {
      "cell_type": "code",
      "execution_count": 3,
      "id": "7d0995bf",
      "metadata": {
        "scrolled": true
      },
      "outputs": [
        {
          "name": "stdout",
          "output_type": "stream",
          "text": [
            "STATE:\n",
            "|1⟩: 1.0000+0.0000𝑖\n",
            "The result of the measurement is One\n"
          ]
        },
        {
          "data": {
            "text/plain": [
              "One"
            ]
          },
          "execution_count": 3,
          "metadata": {},
          "output_type": "execute_result"
        }
      ],
      "source": [
        "qsharp.eval(\"Main()\")"
      ]
    },
    {
      "cell_type": "markdown",
      "id": "a3bde193",
      "metadata": {},
      "source": [
        "Assign a result to a Python variable."
      ]
    },
    {
      "cell_type": "code",
      "execution_count": 4,
      "id": "50383f8a",
      "metadata": {},
      "outputs": [
        {
          "name": "stdout",
          "output_type": "stream",
          "text": [
            "Result: 3 (type: int)\n"
          ]
        }
      ],
      "source": [
        "result = qsharp.eval(\"1 + 2\")\n",
        "\n",
        "print(f\"Result: {result} (type: {type(result).__name__})\")"
      ]
    },
    {
      "cell_type": "markdown",
      "id": "b06b7857",
      "metadata": {},
      "source": [
        "Errors are exceptions. \n",
        "\n",
        "Catch and handle compilation errors."
      ]
    },
    {
      "cell_type": "code",
      "execution_count": 5,
      "id": "33fd3c4d",
      "metadata": {},
      "outputs": [
        {
          "name": "stdout",
          "output_type": "stream",
          "text": [
            "\u001b[31mQsc.Resolve.NotFound\u001b[0m\n",
            "\n",
            "  \u001b[31m×\u001b[0m name error\n",
            "\u001b[31m  ╰─▶ \u001b[0m`Bar` not found\n",
            "   ╭─[2:1]\n",
            " \u001b[2m2\u001b[0m │ operation Foo() : Unit {\n",
            " \u001b[2m3\u001b[0m │     Bar();\n",
            "   · \u001b[35;1m    ───\u001b[0m\n",
            " \u001b[2m4\u001b[0m │     Baz();\n",
            "   ╰────\n",
            "\u001b[31mQsc.Resolve.NotFound\u001b[0m\n",
            "\n",
            "  \u001b[31m×\u001b[0m name error\n",
            "\u001b[31m  ╰─▶ \u001b[0m`Baz` not found\n",
            "   ╭─[3:1]\n",
            " \u001b[2m3\u001b[0m │     Bar();\n",
            " \u001b[2m4\u001b[0m │     Baz();\n",
            "   · \u001b[35;1m    ───\u001b[0m\n",
            " \u001b[2m5\u001b[0m │ }\n",
            "   ╰────\n",
            "\u001b[31mQsc.TypeCk.AmbiguousTy\u001b[0m\n",
            "\n",
            "  \u001b[31m×\u001b[0m type error\n",
            "\u001b[31m  ╰─▶ \u001b[0minsufficient type information to infer type\n",
            "   ╭─[2:1]\n",
            " \u001b[2m2\u001b[0m │ operation Foo() : Unit {\n",
            " \u001b[2m3\u001b[0m │     Bar();\n",
            "   · \u001b[35;1m    ─────\u001b[0m\n",
            " \u001b[2m4\u001b[0m │     Baz();\n",
            "   ╰────\n",
            "\u001b[36m  help: \u001b[0mprovide a type annotation\n",
            "\u001b[31mQsc.TypeCk.AmbiguousTy\u001b[0m\n",
            "\n",
            "  \u001b[31m×\u001b[0m type error\n",
            "\u001b[31m  ╰─▶ \u001b[0minsufficient type information to infer type\n",
            "   ╭─[3:1]\n",
            " \u001b[2m3\u001b[0m │     Bar();\n",
            " \u001b[2m4\u001b[0m │     Baz();\n",
            "   · \u001b[35;1m    ─────\u001b[0m\n",
            " \u001b[2m5\u001b[0m │ }\n",
            "   ╰────\n",
            "\u001b[36m  help: \u001b[0mprovide a type annotation\n",
            "\n"
          ]
        }
      ],
      "source": [
        "from qsharp import QSharpError\n",
        "\n",
        "try:\n",
        "    qsharp.eval(\n",
        "        \"\"\"\n",
        "operation Foo() : Unit {\n",
        "    Bar();\n",
        "    Baz();\n",
        "}\n",
        "\"\"\"\n",
        "    )\n",
        "except QSharpError as ex:\n",
        "    print(ex)"
      ]
    },
    {
      "cell_type": "markdown",
      "id": "00f82a16",
      "metadata": {},
      "source": [
        "Catch and handle runtime errors."
      ]
    },
    {
      "cell_type": "code",
      "execution_count": 6,
      "id": "e70a95d9",
      "metadata": {},
      "outputs": [
        {
          "name": "stdout",
          "output_type": "stream",
          "text": [
            "Error: Qubit0 released while not in |0⟩ state\n",
            "Call stack:\n",
            "    at QIR.Runtime.__quantum__rt__qubit_release in qir.qs\n",
            "    at Foo in <expression>\n",
            "\u001b[31mQsc.Eval.ReleasedQubitNotZero\u001b[0m\n",
            "\n",
            "  \u001b[31m×\u001b[0m runtime error\n",
            "\u001b[31m  ╰─▶ \u001b[0mQubit0 released while not in |0⟩ state\n",
            "\n"
          ]
        }
      ],
      "source": [
        "try:\n",
        "    qsharp.eval(\"operation Foo() : Unit { use q = Qubit(); X(q) } Foo()\")\n",
        "except QSharpError as ex:\n",
        "    print(ex)"
      ]
    },
    {
      "cell_type": "markdown",
      "id": "3e294471",
      "metadata": {},
      "source": [
        "A runtime error that's not caught gets reported as a Python exception."
      ]
    },
    {
      "cell_type": "code",
      "execution_count": 7,
      "id": "d40d86cb",
      "metadata": {},
      "outputs": [
        {
          "ename": "QSharpError",
          "evalue": "Error: Qubit1 released while not in |0⟩ state\nCall stack:\n    at QIR.Runtime.__quantum__rt__qubit_release in qir.qs\n    at Foo in <expression>\n\u001b[31mQsc.Eval.ReleasedQubitNotZero\u001b[0m\n\n  \u001b[31m×\u001b[0m runtime error\n\u001b[31m  ╰─▶ \u001b[0mQubit1 released while not in |0⟩ state\n",
          "output_type": "error",
          "traceback": [
            "\u001b[0;31m---------------------------------------------------------------------------\u001b[0m",
            "\u001b[0;31mQSharpError\u001b[0m                               Traceback (most recent call last)",
            "Cell \u001b[0;32mIn[7], line 1\u001b[0m\n\u001b[0;32m----> 1\u001b[0m qsharp\u001b[39m.\u001b[39;49meval(\u001b[39m\"\u001b[39;49m\u001b[39moperation Foo() : Unit \u001b[39;49m\u001b[39m{\u001b[39;49m\u001b[39m use q = Qubit(); X(q) } Foo()\u001b[39;49m\u001b[39m\"\u001b[39;49m)\n",
            "File \u001b[0;32m~/miniconda3/envs/qsharp/lib/python3.11/site-packages/qsharp/_qsharp.py:47\u001b[0m, in \u001b[0;36meval\u001b[0;34m(source)\u001b[0m\n\u001b[1;32m     44\u001b[0m \u001b[39mdef\u001b[39;00m \u001b[39mcallback\u001b[39m(output):\n\u001b[1;32m     45\u001b[0m     \u001b[39mprint\u001b[39m(output)\n\u001b[0;32m---> 47\u001b[0m \u001b[39mreturn\u001b[39;00m get_interpreter()\u001b[39m.\u001b[39;49minterpret(source, callback)\n",
            "\u001b[0;31mQSharpError\u001b[0m: Error: Qubit1 released while not in |0⟩ state\nCall stack:\n    at QIR.Runtime.__quantum__rt__qubit_release in qir.qs\n    at Foo in <expression>\n\u001b[31mQsc.Eval.ReleasedQubitNotZero\u001b[0m\n\n  \u001b[31m×\u001b[0m runtime error\n\u001b[31m  ╰─▶ \u001b[0mQubit1 released while not in |0⟩ state\n"
          ]
        }
      ],
      "source": [
        "qsharp.eval(\"operation Foo() : Unit { use q = Qubit(); X(q) } Foo()\")"
      ]
    },
    {
      "cell_type": "markdown",
      "id": "ba2f98ad",
      "metadata": {},
      "source": [
        "In `%%qsharp` cells, exceptions are handled and displayed as error text."
      ]
    },
    {
      "cell_type": "code",
      "execution_count": 8,
      "id": "1b55e53c",
      "metadata": {
        "scrolled": false,
        "vscode": {
          "languageId": "qsharp"
        }
      },
      "outputs": [
        {
          "data": {
            "text/html": [
              "<table>\n",
              "  <thead>\n",
              "    <tr>\n",
              "      <th style=\"text-align: left\">Basis State<br />(|𝜓ₙ…𝜓₁⟩)</th>\n",
              "      <th style=\"text-align: left\">Amplitude</th>\n",
              "      <th style=\"text-align: left\">Measurement Probability</th>\n",
              "      <th style=\"text-align: left\" colspan=\"2\">Phase</th>\n",
              "    </tr>\n",
              "  </thead>\n",
              "  <tbody>\n",
              "    <tr>\n",
              "  <td style=\"text-align: left\">\n",
              "    <span style=\"display: inline-block\">|011⟩</span>\n",
              "  </td>\n",
              "  <td style=\"text-align: left\">\n",
              "    <span style=\"display: inline-block\">1.0000+0.0000𝑖</span>\n",
              "  </td>\n",
              "  <td style=\"text-align: left\">\n",
              "    <progress max=\"100\" value=\"100\"></progress>\n",
              "    <span style=\"display: inline-block\">100.0000%</span>\n",
              "  </td>\n",
              "  <td style=\"text-align: left; transform: rotate(0.0000rad)\">↑</td>\n",
              "  <td style=\"text-align: left\">\n",
              "    <span style=\"display: inline-block\">0.0000</span>\n",
              "  </td>\n",
              "</tr>\n",
              "\n",
              "  </tbody>\n",
              "</table>\n"
            ],
            "text/plain": [
              "STATE:\n",
              "|011⟩: 1.0000+0.0000𝑖"
            ]
          },
          "metadata": {},
          "output_type": "display_data"
        },
        {
          "data": {
            "text/plain": [
              "Error: Qubit2 released while not in |0⟩ state\n",
              "Call stack:\n",
              "    at QIR.Runtime.__quantum__rt__qubit_release in qir.qs\n",
              "    at Bar in <expression>\n",
              "\u001b[31mQsc.Eval.ReleasedQubitNotZero\u001b[0m\n",
              "\n",
              "  \u001b[31m×\u001b[0m runtime error\n",
              "\u001b[31m  ╰─▶ \u001b[0mQubit2 released while not in |0⟩ state\n"
            ]
          },
          "metadata": {},
          "output_type": "display_data"
        }
      ],
      "source": [
        "%%qsharp\n",
        "\n",
        "operation Bar() : Unit {\n",
        "    use q = Qubit(); \n",
        "    Microsoft.Quantum.Diagnostics.DumpMachine(); \n",
        "    X(q);\n",
        "} \n",
        "    \n",
        "Bar()"
      ]
    },
    {
      "cell_type": "markdown",
      "id": "98247ac2",
      "metadata": {},
      "source": [
        "Streaming output for long running operations."
      ]
    },
    {
      "cell_type": "code",
      "execution_count": 9,
      "id": "bd25ae87",
      "metadata": {
        "vscode": {
          "languageId": "qsharp"
        }
      },
      "outputs": [
        {
          "data": {
            "text/html": [
              "<p>Generating random bit... </p>"
            ],
            "text/plain": [
              "Generating random bit... "
            ]
          },
          "metadata": {},
          "output_type": "display_data"
        },
        {
          "data": {
            "text/html": [
              "<table>\n",
              "  <thead>\n",
              "    <tr>\n",
              "      <th style=\"text-align: left\">Basis State<br />(|𝜓ₙ…𝜓₁⟩)</th>\n",
              "      <th style=\"text-align: left\">Amplitude</th>\n",
              "      <th style=\"text-align: left\">Measurement Probability</th>\n",
              "      <th style=\"text-align: left\" colspan=\"2\">Phase</th>\n",
              "    </tr>\n",
              "  </thead>\n",
              "  <tbody>\n",
              "    <tr>\n",
              "  <td style=\"text-align: left\">\n",
              "    <span style=\"display: inline-block\">|0111⟩</span>\n",
              "  </td>\n",
              "  <td style=\"text-align: left\">\n",
              "    <span style=\"display: inline-block\">1.0000+0.0000𝑖</span>\n",
              "  </td>\n",
              "  <td style=\"text-align: left\">\n",
              "    <progress max=\"100\" value=\"100\"></progress>\n",
              "    <span style=\"display: inline-block\">100.0000%</span>\n",
              "  </td>\n",
              "  <td style=\"text-align: left; transform: rotate(0.0000rad)\">↑</td>\n",
              "  <td style=\"text-align: left\">\n",
              "    <span style=\"display: inline-block\">0.0000</span>\n",
              "  </td>\n",
              "</tr>\n",
              "\n",
              "  </tbody>\n",
              "</table>\n"
            ],
            "text/plain": [
              "STATE:\n",
              "|0111⟩: 1.0000+0.0000𝑖"
            ]
          },
          "metadata": {},
          "output_type": "display_data"
        },
        {
          "data": {
            "text/html": [
              "<p>Result: Zero</p>"
            ],
            "text/plain": [
              "Result: Zero"
            ]
          },
          "metadata": {},
          "output_type": "display_data"
        },
        {
          "data": {
            "text/html": [
              "<table>\n",
              "  <thead>\n",
              "    <tr>\n",
              "      <th style=\"text-align: left\">Basis State<br />(|𝜓ₙ…𝜓₁⟩)</th>\n",
              "      <th style=\"text-align: left\">Amplitude</th>\n",
              "      <th style=\"text-align: left\">Measurement Probability</th>\n",
              "      <th style=\"text-align: left\" colspan=\"2\">Phase</th>\n",
              "    </tr>\n",
              "  </thead>\n",
              "  <tbody>\n",
              "    <tr>\n",
              "  <td style=\"text-align: left\">\n",
              "    <span style=\"display: inline-block\">|1111⟩</span>\n",
              "  </td>\n",
              "  <td style=\"text-align: left\">\n",
              "    <span style=\"display: inline-block\">1.0000+0.0000𝑖</span>\n",
              "  </td>\n",
              "  <td style=\"text-align: left\">\n",
              "    <progress max=\"100\" value=\"100\"></progress>\n",
              "    <span style=\"display: inline-block\">100.0000%</span>\n",
              "  </td>\n",
              "  <td style=\"text-align: left; transform: rotate(0.0000rad)\">↑</td>\n",
              "  <td style=\"text-align: left\">\n",
              "    <span style=\"display: inline-block\">0.0000</span>\n",
              "  </td>\n",
              "</tr>\n",
              "\n",
              "  </tbody>\n",
              "</table>\n"
            ],
            "text/plain": [
              "STATE:\n",
              "|1111⟩: 1.0000+0.0000𝑖"
            ]
          },
          "metadata": {},
          "output_type": "display_data"
        },
        {
          "data": {
            "text/html": [
              "<p>Result: One</p>"
            ],
            "text/plain": [
              "Result: One"
            ]
          },
          "metadata": {},
          "output_type": "display_data"
        },
        {
          "data": {
            "text/html": [
              "<table>\n",
              "  <thead>\n",
              "    <tr>\n",
              "      <th style=\"text-align: left\">Basis State<br />(|𝜓ₙ…𝜓₁⟩)</th>\n",
              "      <th style=\"text-align: left\">Amplitude</th>\n",
              "      <th style=\"text-align: left\">Measurement Probability</th>\n",
              "      <th style=\"text-align: left\" colspan=\"2\">Phase</th>\n",
              "    </tr>\n",
              "  </thead>\n",
              "  <tbody>\n",
              "    <tr>\n",
              "  <td style=\"text-align: left\">\n",
              "    <span style=\"display: inline-block\">|0111⟩</span>\n",
              "  </td>\n",
              "  <td style=\"text-align: left\">\n",
              "    <span style=\"display: inline-block\">1.0000+0.0000𝑖</span>\n",
              "  </td>\n",
              "  <td style=\"text-align: left\">\n",
              "    <progress max=\"100\" value=\"100\"></progress>\n",
              "    <span style=\"display: inline-block\">100.0000%</span>\n",
              "  </td>\n",
              "  <td style=\"text-align: left; transform: rotate(0.0000rad)\">↑</td>\n",
              "  <td style=\"text-align: left\">\n",
              "    <span style=\"display: inline-block\">0.0000</span>\n",
              "  </td>\n",
              "</tr>\n",
              "\n",
              "  </tbody>\n",
              "</table>\n"
            ],
            "text/plain": [
              "STATE:\n",
              "|0111⟩: 1.0000+0.0000𝑖"
            ]
          },
          "metadata": {},
          "output_type": "display_data"
        },
        {
          "data": {
            "text/html": [
              "<p>Result: Zero</p>"
            ],
            "text/plain": [
              "Result: Zero"
            ]
          },
          "metadata": {},
          "output_type": "display_data"
        },
        {
          "data": {
            "text/html": [
              "<table>\n",
              "  <thead>\n",
              "    <tr>\n",
              "      <th style=\"text-align: left\">Basis State<br />(|𝜓ₙ…𝜓₁⟩)</th>\n",
              "      <th style=\"text-align: left\">Amplitude</th>\n",
              "      <th style=\"text-align: left\">Measurement Probability</th>\n",
              "      <th style=\"text-align: left\" colspan=\"2\">Phase</th>\n",
              "    </tr>\n",
              "  </thead>\n",
              "  <tbody>\n",
              "    <tr>\n",
              "  <td style=\"text-align: left\">\n",
              "    <span style=\"display: inline-block\">|0111⟩</span>\n",
              "  </td>\n",
              "  <td style=\"text-align: left\">\n",
              "    <span style=\"display: inline-block\">1.0000+0.0000𝑖</span>\n",
              "  </td>\n",
              "  <td style=\"text-align: left\">\n",
              "    <progress max=\"100\" value=\"100\"></progress>\n",
              "    <span style=\"display: inline-block\">100.0000%</span>\n",
              "  </td>\n",
              "  <td style=\"text-align: left; transform: rotate(0.0000rad)\">↑</td>\n",
              "  <td style=\"text-align: left\">\n",
              "    <span style=\"display: inline-block\">0.0000</span>\n",
              "  </td>\n",
              "</tr>\n",
              "\n",
              "  </tbody>\n",
              "</table>\n"
            ],
            "text/plain": [
              "STATE:\n",
              "|0111⟩: 1.0000+0.0000𝑖"
            ]
          },
          "metadata": {},
          "output_type": "display_data"
        },
        {
          "data": {
            "text/html": [
              "<p>Result: Zero</p>"
            ],
            "text/plain": [
              "Result: Zero"
            ]
          },
          "metadata": {},
          "output_type": "display_data"
        },
        {
          "data": {
            "text/html": [
              "<table>\n",
              "  <thead>\n",
              "    <tr>\n",
              "      <th style=\"text-align: left\">Basis State<br />(|𝜓ₙ…𝜓₁⟩)</th>\n",
              "      <th style=\"text-align: left\">Amplitude</th>\n",
              "      <th style=\"text-align: left\">Measurement Probability</th>\n",
              "      <th style=\"text-align: left\" colspan=\"2\">Phase</th>\n",
              "    </tr>\n",
              "  </thead>\n",
              "  <tbody>\n",
              "    <tr>\n",
              "  <td style=\"text-align: left\">\n",
              "    <span style=\"display: inline-block\">|0111⟩</span>\n",
              "  </td>\n",
              "  <td style=\"text-align: left\">\n",
              "    <span style=\"display: inline-block\">1.0000+0.0000𝑖</span>\n",
              "  </td>\n",
              "  <td style=\"text-align: left\">\n",
              "    <progress max=\"100\" value=\"100\"></progress>\n",
              "    <span style=\"display: inline-block\">100.0000%</span>\n",
              "  </td>\n",
              "  <td style=\"text-align: left; transform: rotate(0.0000rad)\">↑</td>\n",
              "  <td style=\"text-align: left\">\n",
              "    <span style=\"display: inline-block\">0.0000</span>\n",
              "  </td>\n",
              "</tr>\n",
              "\n",
              "  </tbody>\n",
              "</table>\n"
            ],
            "text/plain": [
              "STATE:\n",
              "|0111⟩: 1.0000+0.0000𝑖"
            ]
          },
          "metadata": {},
          "output_type": "display_data"
        },
        {
          "data": {
            "text/html": [
              "<p>Result: Zero</p>"
            ],
            "text/plain": [
              "Result: Zero"
            ]
          },
          "metadata": {},
          "output_type": "display_data"
        }
      ],
      "source": [
        "%%qsharp\n",
        "\n",
        "open Microsoft.Quantum.Diagnostics;\n",
        "\n",
        "operation Main() : Unit {\n",
        "    Message(\"Generating random bit... \");\n",
        "    for i in 0..400000 {\n",
        "        use q = Qubit();\n",
        "        H(q);\n",
        "        let r = M(q);\n",
        "        if (i % 100000) == 0 {\n",
        "            DumpMachine();\n",
        "            Message($\"Result: {r}\");\n",
        "        }\n",
        "        Reset(q);\n",
        "    }\n",
        "}\n",
        "\n",
        "Main()"
      ]
    },
    {
      "cell_type": "markdown",
      "id": "2a2d9e7d",
      "metadata": {},
      "source": [
        "Running multiple shots for an expression. Each shot uses an independent instance of the simulator. A list of results (or runtime errors) is returned."
      ]
    },
    {
      "cell_type": "code",
      "execution_count": 10,
      "id": "eb3cd29f",
      "metadata": {
        "vscode": {
          "languageId": "qsharp"
        }
      },
      "outputs": [],
      "source": [
        "%%qsharp\n",
        "\n",
        "operation RandomBit() : Result {\n",
        "    use q = Qubit();\n",
        "    H(q);\n",
        "    let res = M(q);\n",
        "    Reset(q);\n",
        "    return res;\n",
        "}"
      ]
    },
    {
      "cell_type": "code",
      "execution_count": 11,
      "id": "9a9f5335",
      "metadata": {},
      "outputs": [
        {
          "data": {
            "text/plain": [
              "[Zero, Zero, Zero, Zero, Zero, One, One, One, One, Zero]"
            ]
          },
          "execution_count": 11,
          "metadata": {},
          "output_type": "execute_result"
        }
      ],
      "source": [
        "results = qsharp.run(\"RandomBit()\", 10)\n",
        "\n",
        "results"
      ]
    },
    {
      "cell_type": "markdown",
      "id": "6a476e6d",
      "metadata": {},
      "source": [
        "The results can then be processed, e.g. plotted in a histogram using popular Python libraries."
      ]
    },
    {
      "cell_type": "code",
      "execution_count": 12,
      "id": "7bd77379",
      "metadata": {},
      "outputs": [
        {
          "name": "stdout",
          "output_type": "stream",
          "text": [
            "Collecting matplotlib\n",
            "  Downloading matplotlib-3.7.2-cp311-cp311-manylinux_2_17_x86_64.manylinux2014_x86_64.whl (11.6 MB)\n",
            "\u001b[2K     \u001b[90m━━━━━━━━━━━━━━━━━━━━━━━━━━━━━━━━━━━━━━━━\u001b[0m \u001b[32m11.6/11.6 MB\u001b[0m \u001b[31m20.0 MB/s\u001b[0m eta \u001b[36m0:00:00\u001b[0m00:01\u001b[0m00:01\u001b[0m\n",
            "\u001b[?25hCollecting contourpy>=1.0.1 (from matplotlib)\n",
            "  Downloading contourpy-1.1.0-cp311-cp311-manylinux_2_17_x86_64.manylinux2014_x86_64.whl (300 kB)\n",
            "\u001b[2K     \u001b[90m━━━━━━━━━━━━━━━━━━━━━━━━━━━━━━━━━━━━━━\u001b[0m \u001b[32m300.4/300.4 kB\u001b[0m \u001b[31m17.4 MB/s\u001b[0m eta \u001b[36m0:00:00\u001b[0m\n",
            "\u001b[?25hCollecting cycler>=0.10 (from matplotlib)\n",
            "  Downloading cycler-0.11.0-py3-none-any.whl (6.4 kB)\n",
            "Collecting fonttools>=4.22.0 (from matplotlib)\n",
            "  Downloading fonttools-4.42.1-cp311-cp311-manylinux_2_17_x86_64.manylinux2014_x86_64.whl (4.9 MB)\n",
            "\u001b[2K     \u001b[90m━━━━━━━━━━━━━━━━━━━━━━━━━━━━━━━━━━━━━━━━\u001b[0m \u001b[32m4.9/4.9 MB\u001b[0m \u001b[31m18.6 MB/s\u001b[0m eta \u001b[36m0:00:00\u001b[0m00:01\u001b[0m00:01\u001b[0m\n",
            "\u001b[?25hCollecting kiwisolver>=1.0.1 (from matplotlib)\n",
            "  Downloading kiwisolver-1.4.5-cp311-cp311-manylinux_2_17_x86_64.manylinux2014_x86_64.whl (1.4 MB)\n",
            "\u001b[2K     \u001b[90m━━━━━━━━━━━━━━━━━━━━━━━━━━━━━━━━━━━━━━━━\u001b[0m \u001b[32m1.4/1.4 MB\u001b[0m \u001b[31m21.6 MB/s\u001b[0m eta \u001b[36m0:00:00\u001b[0ma \u001b[36m0:00:01\u001b[0m\n",
            "\u001b[?25hRequirement already satisfied: numpy>=1.20 in /home/minestarks/miniconda3/envs/qsharp/lib/python3.11/site-packages (from matplotlib) (1.25.2)\n",
            "Requirement already satisfied: packaging>=20.0 in /home/minestarks/miniconda3/envs/qsharp/lib/python3.11/site-packages (from matplotlib) (23.1)\n",
            "Collecting pillow>=6.2.0 (from matplotlib)\n",
            "  Downloading Pillow-10.0.0-cp311-cp311-manylinux_2_28_x86_64.whl (3.4 MB)\n",
            "\u001b[2K     \u001b[90m━━━━━━━━━━━━━━━━━━━━━━━━━━━━━━━━━━━━━━━━\u001b[0m \u001b[32m3.4/3.4 MB\u001b[0m \u001b[31m18.7 MB/s\u001b[0m eta \u001b[36m0:00:00\u001b[0m00:01\u001b[0m00:01\u001b[0m\n",
            "\u001b[?25hCollecting pyparsing<3.1,>=2.3.1 (from matplotlib)\n",
            "  Downloading pyparsing-3.0.9-py3-none-any.whl (98 kB)\n",
            "\u001b[2K     \u001b[90m━━━━━━━━━━━━━━━━━━━━━━━━━━━━━━━━━━━━━━━━\u001b[0m \u001b[32m98.3/98.3 kB\u001b[0m \u001b[31m13.2 MB/s\u001b[0m eta \u001b[36m0:00:00\u001b[0m\n",
            "\u001b[?25hRequirement already satisfied: python-dateutil>=2.7 in /home/minestarks/miniconda3/envs/qsharp/lib/python3.11/site-packages (from matplotlib) (2.8.2)\n",
            "Requirement already satisfied: six>=1.5 in /home/minestarks/miniconda3/envs/qsharp/lib/python3.11/site-packages (from python-dateutil>=2.7->matplotlib) (1.16.0)\n",
            "Installing collected packages: pyparsing, pillow, kiwisolver, fonttools, cycler, contourpy, matplotlib\n",
            "Successfully installed contourpy-1.1.0 cycler-0.11.0 fonttools-4.42.1 kiwisolver-1.4.5 matplotlib-3.7.2 pillow-10.0.0 pyparsing-3.0.9\n",
            "Note: you may need to restart the kernel to use updated packages.\n"
          ]
        }
      ],
      "source": [
        "%pip install matplotlib"
      ]
    },
    {
      "cell_type": "code",
      "execution_count": 13,
      "id": "83cee4e8",
      "metadata": {},
      "outputs": [
        {
          "data": {
            "image/png": "[encoded data removed]",
            "text/plain": [
              "<Figure size 640x480 with 1 Axes>"
            ]
          },
          "metadata": {},
          "output_type": "display_data"
        }
      ],
      "source": [
        "import matplotlib.pyplot as plt\n",
        "import numpy as np\n",
        "from collections import Counter\n",
        "\n",
        "# Sort the results so that the histogram labels appear in the correct order\n",
        "results.sort()\n",
        "# Count the number of times each result appears\n",
        "counts = Counter(results)\n",
        "\n",
        "(values, counts) = counts.keys(), counts.values()\n",
        "xlabels = np.arange(len(counts))\n",
        "plt.bar(xlabels, counts)\n",
        "plt.xticks(xlabels, values)\n",
        "plt.show()"
      ]
    },
    {
      "cell_type": "code",
      "execution_count": 14,
      "id": "eaf766f4",
      "metadata": {},
      "outputs": [
        {
          "name": "stdout",
          "output_type": "stream",
          "text": [
            "Collecting pandas\n",
            "  Downloading pandas-2.0.3-cp311-cp311-manylinux_2_17_x86_64.manylinux2014_x86_64.whl (12.2 MB)\n",
            "\u001b[2K     \u001b[90m━━━━━━━━━━━━━━━━━━━━━━━━━━━━━━━━━━━━━━━━\u001b[0m \u001b[32m12.2/12.2 MB\u001b[0m \u001b[31m17.9 MB/s\u001b[0m eta \u001b[36m0:00:00\u001b[0m00:01\u001b[0m00:01\u001b[0m\n",
            "\u001b[?25hRequirement already satisfied: python-dateutil>=2.8.2 in /home/minestarks/miniconda3/envs/qsharp/lib/python3.11/site-packages (from pandas) (2.8.2)\n",
            "Collecting pytz>=2020.1 (from pandas)\n",
            "  Downloading pytz-2023.3-py2.py3-none-any.whl (502 kB)\n",
            "\u001b[2K     \u001b[90m━━━━━━━━━━━━━━━━━━━━━━━━━━━━━━━━━━━━━━\u001b[0m \u001b[32m502.3/502.3 kB\u001b[0m \u001b[31m13.5 MB/s\u001b[0m eta \u001b[36m0:00:00\u001b[0m00:01\u001b[0m\n",
            "\u001b[?25hCollecting tzdata>=2022.1 (from pandas)\n",
            "  Downloading tzdata-2023.3-py2.py3-none-any.whl (341 kB)\n",
            "\u001b[2K     \u001b[90m━━━━━━━━━━━━━━━━━━━━━━━━━━━━━━━━━━━━━━\u001b[0m \u001b[32m341.8/341.8 kB\u001b[0m \u001b[31m20.2 MB/s\u001b[0m eta \u001b[36m0:00:00\u001b[0m\n",
            "\u001b[?25hRequirement already satisfied: numpy>=1.21.0 in /home/minestarks/miniconda3/envs/qsharp/lib/python3.11/site-packages (from pandas) (1.25.2)\n",
            "Requirement already satisfied: six>=1.5 in /home/minestarks/miniconda3/envs/qsharp/lib/python3.11/site-packages (from python-dateutil>=2.8.2->pandas) (1.16.0)\n",
            "Installing collected packages: pytz, tzdata, pandas\n",
            "Successfully installed pandas-2.0.3 pytz-2023.3 tzdata-2023.3\n",
            "Note: you may need to restart the kernel to use updated packages.\n"
          ]
        }
      ],
      "source": [
        "%pip install pandas"
      ]
    },
    {
      "cell_type": "code",
      "execution_count": 15,
      "id": "8095640a",
      "metadata": {},
      "outputs": [
        {
          "data": {
            "text/plain": [
              "<Axes: >"
            ]
          },
          "execution_count": 15,
          "metadata": {},
          "output_type": "execute_result"
        },
        {
          "data": {
            "image/png": "[encoded data removed]",
            "text/plain": [
              "<Figure size 640x480 with 1 Axes>"
            ]
          },
          "metadata": {},
          "output_type": "display_data"
        }
      ],
      "source": [
        "import pandas\n",
        "from collections import Counter\n",
        "\n",
        "# Sort the results so that the histogram labels appear in the correct order\n",
        "results.sort()\n",
        "pandas.Series(results).value_counts(sort=False).plot(kind='bar')"
      ]
    },
    {
      "cell_type": "markdown",
      "id": "990642e4",
      "metadata": {},
      "source": [
        "A compiler error in the entry expression:"
      ]
    },
    {
      "cell_type": "code",
      "execution_count": 16,
      "id": "f045ad9c",
      "metadata": {},
      "outputs": [
        {
          "ename": "QSharpError",
          "evalue": "\u001b[31mQsc.TypeCk.TyMismatch\u001b[0m\n\n  \u001b[31m×\u001b[0m type error\n\u001b[31m  ╰─▶ \u001b[0mexpected Unit, found String\n   ╭────\n \u001b[2m1\u001b[0m │ RandomBit(\"a\")\n   · \u001b[35;1m──────────────\u001b[0m\n   ╰────\n",
          "output_type": "error",
          "traceback": [
            "\u001b[0;31m---------------------------------------------------------------------------\u001b[0m",
            "\u001b[0;31mQSharpError\u001b[0m                               Traceback (most recent call last)",
            "Cell \u001b[0;32mIn[16], line 1\u001b[0m\n\u001b[0;32m----> 1\u001b[0m qsharp\u001b[39m.\u001b[39;49meval_with_shots(\u001b[39m\"\"\"\u001b[39;49m\u001b[39mRandomBit(\u001b[39;49m\u001b[39m\"\u001b[39;49m\u001b[39ma\u001b[39;49m\u001b[39m\"\u001b[39;49m\u001b[39m)\u001b[39;49m\u001b[39m\"\"\"\u001b[39;49m, \u001b[39m10\u001b[39;49m)\n",
            "File \u001b[0;32m~/miniconda3/envs/qsharp/lib/python3.11/site-packages/qsharp/_qsharp.py:66\u001b[0m, in \u001b[0;36meval_with_shots\u001b[0;34m(entry_expr, shots)\u001b[0m\n\u001b[1;32m     63\u001b[0m \u001b[39mdef\u001b[39;00m \u001b[39mcallback\u001b[39m(output):\n\u001b[1;32m     64\u001b[0m     \u001b[39mprint\u001b[39m(output)\n\u001b[0;32m---> 66\u001b[0m \u001b[39mreturn\u001b[39;00m _interpreter\u001b[39m.\u001b[39;49meval_with_shots(entry_expr, shots, callback)\n",
            "\u001b[0;31mQSharpError\u001b[0m: \u001b[31mQsc.TypeCk.TyMismatch\u001b[0m\n\n  \u001b[31m×\u001b[0m type error\n\u001b[31m  ╰─▶ \u001b[0mexpected Unit, found String\n   ╭────\n \u001b[2m1\u001b[0m │ RandomBit(\"a\")\n   · \u001b[35;1m──────────────\u001b[0m\n   ╰────\n"
          ]
        }
      ],
      "source": [
        "qsharp.run(\"\"\"RandomBit(\"a\")\"\"\", 10)"
      ]
    },
    {
      "cell_type": "markdown",
      "id": "0ba56462",
      "metadata": {},
      "source": [
        "Some shots throw runtime errors:"
      ]
    },
    {
      "cell_type": "code",
      "execution_count": 17,
      "id": "9b85eb2d",
      "metadata": {
        "vscode": {
          "languageId": "qsharp"
        }
      },
      "outputs": [],
      "source": [
        "%%qsharp\n",
        "\n",
        "operation Bad() : Unit {\n",
        "    use q = Qubit();\n",
        "    H(q);\n",
        "    let res = M(q);\n",
        "    if (res == One) {\n",
        "        // Do something bad, sometimes\n",
        "        use q2 = Qubit();\n",
        "        X(q2);\n",
        "    }\n",
        "}"
      ]
    },
    {
      "cell_type": "code",
      "execution_count": 18,
      "id": "2445df05",
      "metadata": {},
      "outputs": [
        {
          "data": {
            "text/plain": [
              "[None,\n",
              " None,\n",
              " None,\n",
              " None,\n",
              " module.QSharpError('Error: Qubit1 released while not in |0⟩ state\\nCall stack:\\n    at QIR.Runtime.__quantum__rt__qubit_release in qir.qs\\n    at Bad in <expression>\\n\\x1b[31mQsc.Eval.ReleasedQubitNotZero\\x1b[0m\\n\\n  \\x1b[31m×\\x1b[0m runtime error\\n\\x1b[31m  ╰─▶ \\x1b[0mQubit1 released while not in |0⟩ state\\n'),\n",
              " None,\n",
              " None,\n",
              " module.QSharpError('Error: Qubit1 released while not in |0⟩ state\\nCall stack:\\n    at QIR.Runtime.__quantum__rt__qubit_release in qir.qs\\n    at Bad in <expression>\\n\\x1b[31mQsc.Eval.ReleasedQubitNotZero\\x1b[0m\\n\\n  \\x1b[31m×\\x1b[0m runtime error\\n\\x1b[31m  ╰─▶ \\x1b[0mQubit1 released while not in |0⟩ state\\n'),\n",
              " None,\n",
              " None]"
            ]
          },
          "execution_count": 18,
          "metadata": {},
          "output_type": "execute_result"
        }
      ],
      "source": [
        "qsharp.run(\"Bad()\", 10)"
      ]
    }
  ],
  "metadata": {
    "kernelspec": {
      "display_name": "Python 3 (ipykernel)",
      "language": "python",
      "name": "python3"
    },
    "language_info": {
      "codemirror_mode": {
        "name": "ipython",
        "version": 3
      },
      "file_extension": ".py",
      "mimetype": "text/x-python",
      "name": "python",
      "nbconvert_exporter": "python",
      "pygments_lexer": "ipython3",
      "version": "3.11.4"
    }
  },
  "nbformat": 4,
  "nbformat_minor": 5
}
