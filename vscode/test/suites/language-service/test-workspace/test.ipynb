{
  "cells": [
    {
      "cell_type": "code",
      "execution_count": null,
      "id": "1e8e4faa",
      "metadata": {},
      "outputs": [],
      "source": [
        "import qsharp\n"
      ]
    },
    {
      "cell_type": "code",
      "execution_count": null,
      "id": "9df62352",
      "metadata": {
        "vscode": {
          "languageId": "qsharp"
        }
      },
      "outputs": [],
      "source": [
        "%%qsharp\n",
        "\n",
        "operation Test() : Unit {\n",
        "    let foo = \"hello!\";\n",
        "    Message(foo);\n",
        "}\n"
      ]
    },
    {
      "cell_type": "code",
      "execution_count": null,
      "id": "1b55e53c",
      "metadata": {
        "scrolled": false,
        "vscode": {
          "languageId": "qsharp"
        }
      },
      "outputs": [],
      "source": [
        "%%qsharp\n",
        "\n",
        "Test()\n"
      ]
    },
    {
      "cell_type": "code",
      "execution_count": null,
      "id": "cc18584a",
      "metadata": {
        "vscode": {
          "languageId": "qsharp"
        }
      },
      "outputs": [],
      "source": [
        "%%qsharp\n",
        "\n",
        "operation BadSyntax() {\n",
        "}\n"
      ]
    }
  ],
  "metadata": {
    "kernelspec": {
      "display_name": "Python 3 (ipykernel)",
      "language": "python",
      "name": "python3"
    },
    "language_info": {
      "codemirror_mode": {
        "name": "ipython",
        "version": 3
      },
      "file_extension": ".py",
      "mimetype": "text/x-python",
      "name": "python",
      "nbconvert_exporter": "python",
      "pygments_lexer": "ipython3",
      "version": "3.11.4"
    }
  },
  "nbformat": 4,
  "nbformat_minor": 5
}
