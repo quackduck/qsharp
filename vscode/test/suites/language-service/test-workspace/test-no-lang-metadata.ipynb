{
  "cells": [
    {
      "cell_type": "code",
      "execution_count": null,
      "id": "1e8e4faa",
      "metadata": {},
      "outputs": [],
      "source": [
        "import qsharp\n"
      ]
    },
    {
      "cell_type": "code",
      "execution_count": null,
      "id": "1b55e53c",
      "metadata": {
        "scrolled": false
      },
      "outputs": [],
      "source": [
        "%%qsharp\n",
        "\n",
        "Test()\n"
      ]
    }
  ],
  "metadata": {
    "kernelspec": {
      "display_name": "Python 3 (ipykernel)",
      "language": "python",
      "name": "python3"
    },
    "language_info": {
      "codemirror_mode": {
        "name": "ipython",
        "version": 3
      },
      "file_extension": ".py",
      "mimetype": "text/x-python",
      "name": "python",
      "nbconvert_exporter": "python",
      "pygments_lexer": "ipython3",
      "version": "3.11.4"
    }
  },
  "nbformat": 4,
  "nbformat_minor": 5
}
